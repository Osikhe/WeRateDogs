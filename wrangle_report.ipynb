{
 "cells": [
  {
   "cell_type": "markdown",
   "metadata": {},
   "source": [
    "## Data Wrangling Report"
   ]
  },
  {
   "cell_type": "markdown",
   "metadata": {},
   "source": [
    "## Quality\n",
    ">#### 1. Split the `source` column to extract the text \n",
    ">- Remove the leading html tags from the source column  \n",
    ">- convert the source column to category type.\n",
    ">\n",
    ">#### 2. Remove records that are retweeted and replied.\n",
    ">- drop rows that are that are retweeted and replied.  \n",
    ">\n",
    ">#### 3. Drop columns with NaN values that are not important to the analysis\n",
    ">- Drop 'in_reply_to_status_id','in_reply_to_user_id', 'retweeted_status_id', 'retweeted_status_user_id' and 'retweeted_status_timestamp' columns\n",
    ">\n",
    ">#### 4.  Convert datatypes\n",
    ">- change dtype of `timestamp` from object to datetime format. \n",
    ">- change dtype of `tweet_id` column to object as we are not performing any operations on them.\n",
    ">\n",
    ">#### 5.  Non-names on `name` column\n",
    ">- filter out values that are not dog names ie 'very', 'like', 'his', 'my', 'not', 'this'\n",
    ">- fill with NAN\n",
    ">\n",
    ">#### 6.  drop null values in the `expanded_urls` column\n",
    ">- filter and drop nan values\n",
    ">\n",
    ">#### 7.  Extract the ratings from `text` column \n",
    ">- filter the correct rating for each tweet.\n",
    ">\n",
    ">#### 8.  extract corrcet values for `rating_numerator` \n",
    ">- pull the rating_numerator from the correctly extracted rating\n",
    ">- change rating_numerator datatype to float\n",
    ">\n",
    ">#### 9.  `rating_denominator` datatype isn't int \n",
    ">- pull the rating_denominator from the correctly extracted rating\n",
    ">- change rating_denominator datatype to int\n",
    ">- drop 'ratings', 'index', 'level_0' columns\n",
    "______\n",
    "\n",
    "## Tidiness\n",
    ">#### 1. Melt the `doggo`, `floofer`, `pupper` and `puppo`  columns as `dog_stages` column. \n",
    ">- changes the format of `doggo`, `floofer`, `pupper` and `puppo`  columns from wide to long\n",
    ">\n",
    ">#### 2.  Merging the three data sets into one\n",
    ">- merge the three tables as one\n",
    ">- drop all duplicated rows.\n",
    "\n",
    "________\n",
    "\n",
    "## Storing Data\n",
    "> **save the gathered, assessed and cleaned master datasets to a csv file named twitter_achive_master.csv**"
   ]
  }
 ],
 "metadata": {
  "kernelspec": {
   "display_name": "Python 3 (ipykernel)",
   "language": "python",
   "name": "python3"
  },
  "language_info": {
   "codemirror_mode": {
    "name": "ipython",
    "version": 3
   },
   "file_extension": ".py",
   "mimetype": "text/x-python",
   "name": "python",
   "nbconvert_exporter": "python",
   "pygments_lexer": "ipython3",
   "version": "3.9.12"
  }
 },
 "nbformat": 4,
 "nbformat_minor": 2
}
