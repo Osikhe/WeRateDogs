{
 "cells": [
  {
   "cell_type": "markdown",
   "id": "cf298b38",
   "metadata": {},
   "source": [
    "# Wrangle WeRateDogs Twitter Data\n",
    "> **Mariam Garuba**\n",
    "\n",
    "![dog](tweet_dog.jpg)\n",
    "_____\n",
    "### Gathering Data\n",
    "The project gathers three pieces of data as described below:\n",
    "\n",
    "- Twitter archive file: This can be downloaded manually via [twitter_archive_enhanced.csv](https://d17h27t6h515a5.cloudfront.net/topher/2017/August/59a4e958_twitter-archive-enhanced/twitter-archive-enhanced.csv) and read into a pandas DataFrame.\n",
    "\n",
    "- The tweet image predictions: This is present in each tweet according to a neural network. It is hosted on Udacity's servers and should be downloaded programmatically using the Requests library and the following URL: [tweet_image_predictions](https://d17h27t6h515a5.cloudfront.net/topher/2017/August/599fd2ad_image-predictions/image-predictions.tsv). The results is a table full of image predictions (the top three only) alongside each tweet ID, image URL, and the image number that corresponds to the most confident prediction (numbered 1 to 4 since tweets can have up to four images).\n",
    "\n",
    "- tweet's JSON data should be written to its own line. Then read line by line into a pandas DataFrame with (at minimum) tweet ID, retweet count, and favorite count. \n",
    "______"
   ]
  },
  {
   "cell_type": "code",
   "execution_count": 1,
   "id": "6a5b6816",
   "metadata": {},
   "outputs": [],
   "source": [
    "import pandas as pd\n",
    "import json\n",
    "import numpy as np\n",
    "from bs4 import BeautifulSoup\n",
    "import matplotlib.pyplot as plt\n",
    "import requests\n",
    "%matplotlib inline\n",
    "import re"
   ]
  },
  {
   "cell_type": "code",
   "execution_count": 2,
   "id": "918fe5e3",
   "metadata": {},
   "outputs": [
    {
     "data": {
      "text/html": [
       "<div>\n",
       "<style scoped>\n",
       "    .dataframe tbody tr th:only-of-type {\n",
       "        vertical-align: middle;\n",
       "    }\n",
       "\n",
       "    .dataframe tbody tr th {\n",
       "        vertical-align: top;\n",
       "    }\n",
       "\n",
       "    .dataframe thead th {\n",
       "        text-align: right;\n",
       "    }\n",
       "</style>\n",
       "<table border=\"1\" class=\"dataframe\">\n",
       "  <thead>\n",
       "    <tr style=\"text-align: right;\">\n",
       "      <th></th>\n",
       "      <th>tweet_id</th>\n",
       "      <th>in_reply_to_status_id</th>\n",
       "      <th>in_reply_to_user_id</th>\n",
       "      <th>timestamp</th>\n",
       "      <th>source</th>\n",
       "      <th>text</th>\n",
       "      <th>retweeted_status_id</th>\n",
       "      <th>retweeted_status_user_id</th>\n",
       "      <th>retweeted_status_timestamp</th>\n",
       "      <th>expanded_urls</th>\n",
       "      <th>rating_numerator</th>\n",
       "      <th>rating_denominator</th>\n",
       "      <th>name</th>\n",
       "      <th>doggo</th>\n",
       "      <th>floofer</th>\n",
       "      <th>pupper</th>\n",
       "      <th>puppo</th>\n",
       "    </tr>\n",
       "  </thead>\n",
       "  <tbody>\n",
       "    <tr>\n",
       "      <th>0</th>\n",
       "      <td>892420643555336193</td>\n",
       "      <td>NaN</td>\n",
       "      <td>NaN</td>\n",
       "      <td>2017-08-01 16:23:56 +0000</td>\n",
       "      <td>&lt;a href=\"http://twitter.com/download/iphone\" r...</td>\n",
       "      <td>This is Phineas. He's a mystical boy. Only eve...</td>\n",
       "      <td>NaN</td>\n",
       "      <td>NaN</td>\n",
       "      <td>NaN</td>\n",
       "      <td>https://twitter.com/dog_rates/status/892420643...</td>\n",
       "      <td>13</td>\n",
       "      <td>10</td>\n",
       "      <td>Phineas</td>\n",
       "      <td>None</td>\n",
       "      <td>None</td>\n",
       "      <td>None</td>\n",
       "      <td>None</td>\n",
       "    </tr>\n",
       "    <tr>\n",
       "      <th>1</th>\n",
       "      <td>892177421306343426</td>\n",
       "      <td>NaN</td>\n",
       "      <td>NaN</td>\n",
       "      <td>2017-08-01 00:17:27 +0000</td>\n",
       "      <td>&lt;a href=\"http://twitter.com/download/iphone\" r...</td>\n",
       "      <td>This is Tilly. She's just checking pup on you....</td>\n",
       "      <td>NaN</td>\n",
       "      <td>NaN</td>\n",
       "      <td>NaN</td>\n",
       "      <td>https://twitter.com/dog_rates/status/892177421...</td>\n",
       "      <td>13</td>\n",
       "      <td>10</td>\n",
       "      <td>Tilly</td>\n",
       "      <td>None</td>\n",
       "      <td>None</td>\n",
       "      <td>None</td>\n",
       "      <td>None</td>\n",
       "    </tr>\n",
       "  </tbody>\n",
       "</table>\n",
       "</div>"
      ],
      "text/plain": [
       "             tweet_id  in_reply_to_status_id  in_reply_to_user_id  \\\n",
       "0  892420643555336193                    NaN                  NaN   \n",
       "1  892177421306343426                    NaN                  NaN   \n",
       "\n",
       "                   timestamp  \\\n",
       "0  2017-08-01 16:23:56 +0000   \n",
       "1  2017-08-01 00:17:27 +0000   \n",
       "\n",
       "                                              source  \\\n",
       "0  <a href=\"http://twitter.com/download/iphone\" r...   \n",
       "1  <a href=\"http://twitter.com/download/iphone\" r...   \n",
       "\n",
       "                                                text  retweeted_status_id  \\\n",
       "0  This is Phineas. He's a mystical boy. Only eve...                  NaN   \n",
       "1  This is Tilly. She's just checking pup on you....                  NaN   \n",
       "\n",
       "   retweeted_status_user_id retweeted_status_timestamp  \\\n",
       "0                       NaN                        NaN   \n",
       "1                       NaN                        NaN   \n",
       "\n",
       "                                       expanded_urls  rating_numerator  \\\n",
       "0  https://twitter.com/dog_rates/status/892420643...                13   \n",
       "1  https://twitter.com/dog_rates/status/892177421...                13   \n",
       "\n",
       "   rating_denominator     name doggo floofer pupper puppo  \n",
       "0                  10  Phineas  None    None   None  None  \n",
       "1                  10    Tilly  None    None   None  None  "
      ]
     },
     "execution_count": 2,
     "metadata": {},
     "output_type": "execute_result"
    }
   ],
   "source": [
    "twitter_archive_df = pd.read_csv('twitter-archive-enhanced.csv', encoding='utf-8')\n",
    "twitter_archive_df.head(2)"
   ]
  },
  {
   "cell_type": "code",
   "execution_count": 3,
   "id": "fda65837",
   "metadata": {
    "scrolled": true
   },
   "outputs": [
    {
     "data": {
      "text/html": [
       "<div>\n",
       "<style scoped>\n",
       "    .dataframe tbody tr th:only-of-type {\n",
       "        vertical-align: middle;\n",
       "    }\n",
       "\n",
       "    .dataframe tbody tr th {\n",
       "        vertical-align: top;\n",
       "    }\n",
       "\n",
       "    .dataframe thead th {\n",
       "        text-align: right;\n",
       "    }\n",
       "</style>\n",
       "<table border=\"1\" class=\"dataframe\">\n",
       "  <thead>\n",
       "    <tr style=\"text-align: right;\">\n",
       "      <th></th>\n",
       "      <th>created_at</th>\n",
       "      <th>id</th>\n",
       "      <th>id_str</th>\n",
       "      <th>full_text</th>\n",
       "      <th>truncated</th>\n",
       "      <th>display_text_range</th>\n",
       "      <th>entities</th>\n",
       "      <th>extended_entities</th>\n",
       "      <th>source</th>\n",
       "      <th>in_reply_to_status_id</th>\n",
       "      <th>...</th>\n",
       "      <th>favorite_count</th>\n",
       "      <th>favorited</th>\n",
       "      <th>retweeted</th>\n",
       "      <th>possibly_sensitive</th>\n",
       "      <th>possibly_sensitive_appealable</th>\n",
       "      <th>lang</th>\n",
       "      <th>retweeted_status</th>\n",
       "      <th>quoted_status_id</th>\n",
       "      <th>quoted_status_id_str</th>\n",
       "      <th>quoted_status</th>\n",
       "    </tr>\n",
       "  </thead>\n",
       "  <tbody>\n",
       "    <tr>\n",
       "      <th>0</th>\n",
       "      <td>Tue Aug 01 16:23:56 +0000 2017</td>\n",
       "      <td>892420643555336193</td>\n",
       "      <td>892420643555336193</td>\n",
       "      <td>This is Phineas. He's a mystical boy. Only eve...</td>\n",
       "      <td>False</td>\n",
       "      <td>[0, 85]</td>\n",
       "      <td>{'hashtags': [], 'symbols': [], 'user_mentions...</td>\n",
       "      <td>{'media': [{'id': 892420639486877696, 'id_str'...</td>\n",
       "      <td>&lt;a href=\"http://twitter.com/download/iphone\" r...</td>\n",
       "      <td>NaN</td>\n",
       "      <td>...</td>\n",
       "      <td>39467</td>\n",
       "      <td>False</td>\n",
       "      <td>False</td>\n",
       "      <td>False</td>\n",
       "      <td>False</td>\n",
       "      <td>en</td>\n",
       "      <td>NaN</td>\n",
       "      <td>NaN</td>\n",
       "      <td>NaN</td>\n",
       "      <td>NaN</td>\n",
       "    </tr>\n",
       "    <tr>\n",
       "      <th>1</th>\n",
       "      <td>Tue Aug 01 00:17:27 +0000 2017</td>\n",
       "      <td>892177421306343426</td>\n",
       "      <td>892177421306343426</td>\n",
       "      <td>This is Tilly. She's just checking pup on you....</td>\n",
       "      <td>False</td>\n",
       "      <td>[0, 138]</td>\n",
       "      <td>{'hashtags': [], 'symbols': [], 'user_mentions...</td>\n",
       "      <td>{'media': [{'id': 892177413194625024, 'id_str'...</td>\n",
       "      <td>&lt;a href=\"http://twitter.com/download/iphone\" r...</td>\n",
       "      <td>NaN</td>\n",
       "      <td>...</td>\n",
       "      <td>33819</td>\n",
       "      <td>False</td>\n",
       "      <td>False</td>\n",
       "      <td>False</td>\n",
       "      <td>False</td>\n",
       "      <td>en</td>\n",
       "      <td>NaN</td>\n",
       "      <td>NaN</td>\n",
       "      <td>NaN</td>\n",
       "      <td>NaN</td>\n",
       "    </tr>\n",
       "  </tbody>\n",
       "</table>\n",
       "<p>2 rows × 31 columns</p>\n",
       "</div>"
      ],
      "text/plain": [
       "                       created_at                  id              id_str  \\\n",
       "0  Tue Aug 01 16:23:56 +0000 2017  892420643555336193  892420643555336193   \n",
       "1  Tue Aug 01 00:17:27 +0000 2017  892177421306343426  892177421306343426   \n",
       "\n",
       "                                           full_text  truncated  \\\n",
       "0  This is Phineas. He's a mystical boy. Only eve...      False   \n",
       "1  This is Tilly. She's just checking pup on you....      False   \n",
       "\n",
       "  display_text_range                                           entities  \\\n",
       "0            [0, 85]  {'hashtags': [], 'symbols': [], 'user_mentions...   \n",
       "1           [0, 138]  {'hashtags': [], 'symbols': [], 'user_mentions...   \n",
       "\n",
       "                                   extended_entities  \\\n",
       "0  {'media': [{'id': 892420639486877696, 'id_str'...   \n",
       "1  {'media': [{'id': 892177413194625024, 'id_str'...   \n",
       "\n",
       "                                              source  in_reply_to_status_id  \\\n",
       "0  <a href=\"http://twitter.com/download/iphone\" r...                    NaN   \n",
       "1  <a href=\"http://twitter.com/download/iphone\" r...                    NaN   \n",
       "\n",
       "   ... favorite_count  favorited retweeted possibly_sensitive  \\\n",
       "0  ...          39467      False     False              False   \n",
       "1  ...          33819      False     False              False   \n",
       "\n",
       "  possibly_sensitive_appealable lang retweeted_status quoted_status_id  \\\n",
       "0                         False   en              NaN              NaN   \n",
       "1                         False   en              NaN              NaN   \n",
       "\n",
       "  quoted_status_id_str  quoted_status  \n",
       "0                  NaN            NaN  \n",
       "1                  NaN            NaN  \n",
       "\n",
       "[2 rows x 31 columns]"
      ]
     },
     "execution_count": 3,
     "metadata": {},
     "output_type": "execute_result"
    }
   ],
   "source": [
    "with open('tweet-json.txt') as file:\n",
    "    tweets = [json.loads(line) for line in file if line]\n",
    "\n",
    "tweet_json_df = pd.DataFrame(tweets)\n",
    "tweet_json_df.head(2)"
   ]
  },
  {
   "cell_type": "code",
   "execution_count": 4,
   "id": "579be8af",
   "metadata": {},
   "outputs": [
    {
     "data": {
      "text/html": [
       "<div>\n",
       "<style scoped>\n",
       "    .dataframe tbody tr th:only-of-type {\n",
       "        vertical-align: middle;\n",
       "    }\n",
       "\n",
       "    .dataframe tbody tr th {\n",
       "        vertical-align: top;\n",
       "    }\n",
       "\n",
       "    .dataframe thead th {\n",
       "        text-align: right;\n",
       "    }\n",
       "</style>\n",
       "<table border=\"1\" class=\"dataframe\">\n",
       "  <thead>\n",
       "    <tr style=\"text-align: right;\">\n",
       "      <th></th>\n",
       "      <th>tweet_id</th>\n",
       "      <th>jpg_url</th>\n",
       "      <th>img_num</th>\n",
       "      <th>p1</th>\n",
       "      <th>p1_conf</th>\n",
       "      <th>p1_dog</th>\n",
       "      <th>p2</th>\n",
       "      <th>p2_conf</th>\n",
       "      <th>p2_dog</th>\n",
       "      <th>p3</th>\n",
       "      <th>p3_conf</th>\n",
       "      <th>p3_dog</th>\n",
       "    </tr>\n",
       "  </thead>\n",
       "  <tbody>\n",
       "    <tr>\n",
       "      <th>0</th>\n",
       "      <td>666020888022790149</td>\n",
       "      <td>https://pbs.twimg.com/media/CT4udn0WwAA0aMy.jpg</td>\n",
       "      <td>1</td>\n",
       "      <td>Welsh_springer_spaniel</td>\n",
       "      <td>0.465074</td>\n",
       "      <td>True</td>\n",
       "      <td>collie</td>\n",
       "      <td>0.156665</td>\n",
       "      <td>True</td>\n",
       "      <td>Shetland_sheepdog</td>\n",
       "      <td>0.061428</td>\n",
       "      <td>True</td>\n",
       "    </tr>\n",
       "    <tr>\n",
       "      <th>1</th>\n",
       "      <td>666029285002620928</td>\n",
       "      <td>https://pbs.twimg.com/media/CT42GRgUYAA5iDo.jpg</td>\n",
       "      <td>1</td>\n",
       "      <td>redbone</td>\n",
       "      <td>0.506826</td>\n",
       "      <td>True</td>\n",
       "      <td>miniature_pinscher</td>\n",
       "      <td>0.074192</td>\n",
       "      <td>True</td>\n",
       "      <td>Rhodesian_ridgeback</td>\n",
       "      <td>0.072010</td>\n",
       "      <td>True</td>\n",
       "    </tr>\n",
       "    <tr>\n",
       "      <th>2</th>\n",
       "      <td>666033412701032449</td>\n",
       "      <td>https://pbs.twimg.com/media/CT4521TWwAEvMyu.jpg</td>\n",
       "      <td>1</td>\n",
       "      <td>German_shepherd</td>\n",
       "      <td>0.596461</td>\n",
       "      <td>True</td>\n",
       "      <td>malinois</td>\n",
       "      <td>0.138584</td>\n",
       "      <td>True</td>\n",
       "      <td>bloodhound</td>\n",
       "      <td>0.116197</td>\n",
       "      <td>True</td>\n",
       "    </tr>\n",
       "    <tr>\n",
       "      <th>3</th>\n",
       "      <td>666044226329800704</td>\n",
       "      <td>https://pbs.twimg.com/media/CT5Dr8HUEAA-lEu.jpg</td>\n",
       "      <td>1</td>\n",
       "      <td>Rhodesian_ridgeback</td>\n",
       "      <td>0.408143</td>\n",
       "      <td>True</td>\n",
       "      <td>redbone</td>\n",
       "      <td>0.360687</td>\n",
       "      <td>True</td>\n",
       "      <td>miniature_pinscher</td>\n",
       "      <td>0.222752</td>\n",
       "      <td>True</td>\n",
       "    </tr>\n",
       "    <tr>\n",
       "      <th>4</th>\n",
       "      <td>666049248165822465</td>\n",
       "      <td>https://pbs.twimg.com/media/CT5IQmsXIAAKY4A.jpg</td>\n",
       "      <td>1</td>\n",
       "      <td>miniature_pinscher</td>\n",
       "      <td>0.560311</td>\n",
       "      <td>True</td>\n",
       "      <td>Rottweiler</td>\n",
       "      <td>0.243682</td>\n",
       "      <td>True</td>\n",
       "      <td>Doberman</td>\n",
       "      <td>0.154629</td>\n",
       "      <td>True</td>\n",
       "    </tr>\n",
       "  </tbody>\n",
       "</table>\n",
       "</div>"
      ],
      "text/plain": [
       "             tweet_id                                          jpg_url  \\\n",
       "0  666020888022790149  https://pbs.twimg.com/media/CT4udn0WwAA0aMy.jpg   \n",
       "1  666029285002620928  https://pbs.twimg.com/media/CT42GRgUYAA5iDo.jpg   \n",
       "2  666033412701032449  https://pbs.twimg.com/media/CT4521TWwAEvMyu.jpg   \n",
       "3  666044226329800704  https://pbs.twimg.com/media/CT5Dr8HUEAA-lEu.jpg   \n",
       "4  666049248165822465  https://pbs.twimg.com/media/CT5IQmsXIAAKY4A.jpg   \n",
       "\n",
       "   img_num                      p1   p1_conf  p1_dog                  p2  \\\n",
       "0        1  Welsh_springer_spaniel  0.465074    True              collie   \n",
       "1        1                 redbone  0.506826    True  miniature_pinscher   \n",
       "2        1         German_shepherd  0.596461    True            malinois   \n",
       "3        1     Rhodesian_ridgeback  0.408143    True             redbone   \n",
       "4        1      miniature_pinscher  0.560311    True          Rottweiler   \n",
       "\n",
       "    p2_conf  p2_dog                   p3   p3_conf  p3_dog  \n",
       "0  0.156665    True    Shetland_sheepdog  0.061428    True  \n",
       "1  0.074192    True  Rhodesian_ridgeback  0.072010    True  \n",
       "2  0.138584    True           bloodhound  0.116197    True  \n",
       "3  0.360687    True   miniature_pinscher  0.222752    True  \n",
       "4  0.243682    True             Doberman  0.154629    True  "
      ]
     },
     "execution_count": 4,
     "metadata": {},
     "output_type": "execute_result"
    }
   ],
   "source": [
    "# Using Requests library to download a file then store it in a tsv file\n",
    "url = 'https://d17h27t6h515a5.cloudfront.net/topher/2017/August/599fd2ad_image-predictions/image-predictions.tsv'\n",
    "response = requests.get(url)\n",
    "\n",
    "with open(url.split('/')[-1], mode = 'wb') as outfile:\n",
    "    outfile.write(response.content)\n",
    "\n",
    "# Read the downloaded file into a dataframe 'images'\n",
    "image_prediction_df = pd.read_csv('image-predictions.tsv', sep = '\\t', encoding='utf-8')\n",
    "# Quick check to the file content and structure\n",
    "image_prediction_df.head()"
   ]
  },
  {
   "cell_type": "markdown",
   "id": "d4873ded",
   "metadata": {},
   "source": [
    "## Assessing Data\n",
    "After gathering all three pieces of data, assess them visually and programmatically for quality and tidiness issues. Detect and document at least eight (8) quality issues and two (2) tidiness issues.\n",
    "\n",
    "You need to use two types of assessment:\n",
    "\n",
    "- Visual assessment: each piece of gathered data is displayed in the Jupyter Notebook for visual assessment purposes. Once displayed, data can additionally be assessed in an external application (e.g. Excel, text editor).\n",
    "- Programmatic assessment: pandas' functions and/or methods are used to assess the data.\n",
    "________\n",
    "\n",
    "### Quality\n",
    "\n",
    ">1. Remove the leading html tags from the `source` column.\n",
    ">2. Remove records that are retweeted and replied.\n",
    ">3. drop columns with null values.\n",
    ">4. convert datatypes of `timestamp` and `tweet_id` columns\n",
    ">5. non-dog names in `name` column \n",
    ">6. drop null values in the `expanded_urls` column\n",
    ">7. extract the ratings from `text` column \n",
    ">8. extract correct values for `rating_numerator` and `rating_denominator` \n",
    ">9. change `rating_numerator` datatype to float \n",
    ">10  change `rating_denominator` datatype to int\n",
    "________\n",
    "\n",
    "\n",
    "### Tidiness  \n",
    ">1. Melt the `doggo`, `floofer`, `pupper` and `puppo` columns as dog_stages column.\n",
    ">2. merge the three tables as one and drop all duplicated rows.\n",
    "_______\n",
    "\n",
    "## Cleaning Data\n",
    "\n",
    ">- Before you perform the cleaning, you will make a copy of the original data.\n",
    ">- Clean all of the issues you documented while assessing.\n",
    ">- During cleaning, use the **define-code-test framework** and clearly document it.\n",
    ">- Cleaning includes merging individual pieces of data according to the rules of tidy data. The result should be a high-quality >and tidy master pandas DataFrame (or DataFrames, if appropriate).\n",
    "_______"
   ]
  },
  {
   "cell_type": "code",
   "execution_count": 5,
   "id": "a7aff9c7",
   "metadata": {},
   "outputs": [],
   "source": [
    "twitter_archive_clean = twitter_archive_df.copy()\n",
    "\n",
    "image_pred_clean = image_prediction_df[['tweet_id', 'jpg_url', 'img_num']].copy()\n",
    "\n",
    "tweet_json_clean = tweet_json_df[['id_str', 'retweet_count', 'favorite_count']].copy()"
   ]
  },
  {
   "cell_type": "markdown",
   "id": "5cb96038",
   "metadata": {},
   "source": [
    "## Data Quality Issues"
   ]
  },
  {
   "cell_type": "markdown",
   "id": "7f311aaa",
   "metadata": {},
   "source": [
    "#### 1. Split the `source` column to extract the text \n",
    "> #### Define\n",
    ">- Remove the leading html tags from the source column  \n",
    ">- convert the source column to category type.\n",
    "\n",
    ">#### Code"
   ]
  },
  {
   "cell_type": "code",
   "execution_count": 6,
   "id": "6458194f",
   "metadata": {},
   "outputs": [],
   "source": [
    "def split_source(x):\n",
    "    \"\"\" splits by a delimiter and replace the end tag. \"\"\"\n",
    "    x = x.split('>')[1].replace('</a', '')\n",
    "    return x\n",
    "\n",
    "twitter_archive_clean['source'] = twitter_archive_clean['source'].apply(split_source)"
   ]
  },
  {
   "cell_type": "markdown",
   "id": "942d72e9",
   "metadata": {},
   "source": [
    ">#### Test"
   ]
  },
  {
   "cell_type": "code",
   "execution_count": 7,
   "id": "dd523400",
   "metadata": {},
   "outputs": [
    {
     "data": {
      "text/plain": [
       "0    Twitter for iPhone\n",
       "1    Twitter for iPhone\n",
       "2    Twitter for iPhone\n",
       "3    Twitter for iPhone\n",
       "4    Twitter for iPhone\n",
       "Name: source, dtype: object"
      ]
     },
     "execution_count": 7,
     "metadata": {},
     "output_type": "execute_result"
    }
   ],
   "source": [
    "twitter_archive_clean['source'].head()"
   ]
  },
  {
   "cell_type": "markdown",
   "id": "74ac5457",
   "metadata": {},
   "source": [
    "#### 2. Remove records that are retweeted and replied.\n",
    "> #### Define\n",
    ">- drop rows that are that are retweeted and replied.  \n",
    "\n",
    ">#### Code"
   ]
  },
  {
   "cell_type": "code",
   "execution_count": 8,
   "id": "4b8237a4",
   "metadata": {},
   "outputs": [],
   "source": [
    "twitter_archive_clean = twitter_archive_clean[twitter_archive_clean['retweeted_status_id'].isna()]\n",
    "twitter_archive_clean = twitter_archive_clean[twitter_archive_clean['in_reply_to_user_id'].isna()]"
   ]
  },
  {
   "cell_type": "markdown",
   "id": "87d85602",
   "metadata": {},
   "source": [
    ">#### Test"
   ]
  },
  {
   "cell_type": "code",
   "execution_count": 9,
   "id": "27afb0f8",
   "metadata": {},
   "outputs": [
    {
     "name": "stdout",
     "output_type": "stream",
     "text": [
      "<class 'pandas.core.frame.DataFrame'>\n",
      "Int64Index: 2097 entries, 0 to 2355\n",
      "Data columns (total 17 columns):\n",
      " #   Column                      Non-Null Count  Dtype  \n",
      "---  ------                      --------------  -----  \n",
      " 0   tweet_id                    2097 non-null   int64  \n",
      " 1   in_reply_to_status_id       0 non-null      float64\n",
      " 2   in_reply_to_user_id         0 non-null      float64\n",
      " 3   timestamp                   2097 non-null   object \n",
      " 4   source                      2097 non-null   object \n",
      " 5   text                        2097 non-null   object \n",
      " 6   retweeted_status_id         0 non-null      float64\n",
      " 7   retweeted_status_user_id    0 non-null      float64\n",
      " 8   retweeted_status_timestamp  0 non-null      object \n",
      " 9   expanded_urls               2094 non-null   object \n",
      " 10  rating_numerator            2097 non-null   int64  \n",
      " 11  rating_denominator          2097 non-null   int64  \n",
      " 12  name                        2097 non-null   object \n",
      " 13  doggo                       2097 non-null   object \n",
      " 14  floofer                     2097 non-null   object \n",
      " 15  pupper                      2097 non-null   object \n",
      " 16  puppo                       2097 non-null   object \n",
      "dtypes: float64(4), int64(3), object(10)\n",
      "memory usage: 294.9+ KB\n"
     ]
    }
   ],
   "source": [
    "twitter_archive_clean.info()"
   ]
  },
  {
   "cell_type": "markdown",
   "id": "312f59f9",
   "metadata": {},
   "source": [
    "#### 3. Drop columns with NaN values that are not important to the analysis\n",
    "> #### Define\n",
    ">- Drop 'in_reply_to_status_id','in_reply_to_user_id', 'retweeted_status_id', 'retweeted_status_user_id' and 'retweeted_status_timestamp' columns\n",
    "\n",
    ">#### Code"
   ]
  },
  {
   "cell_type": "code",
   "execution_count": 10,
   "id": "40f8364a",
   "metadata": {
    "scrolled": true
   },
   "outputs": [],
   "source": [
    "twitter_archive_clean.drop(\n",
    "    columns=['in_reply_to_status_id','in_reply_to_user_id', 'retweeted_status_id',\n",
    "             'retweeted_status_user_id', 'retweeted_status_timestamp'], \n",
    "    axis=1, inplace=True)"
   ]
  },
  {
   "cell_type": "markdown",
   "id": "bd2c9336",
   "metadata": {},
   "source": [
    ">#### Test"
   ]
  },
  {
   "cell_type": "code",
   "execution_count": 11,
   "id": "f337b781",
   "metadata": {
    "scrolled": false
   },
   "outputs": [
    {
     "data": {
      "text/plain": [
       "Index(['tweet_id', 'timestamp', 'source', 'text', 'expanded_urls',\n",
       "       'rating_numerator', 'rating_denominator', 'name', 'doggo', 'floofer',\n",
       "       'pupper', 'puppo'],\n",
       "      dtype='object')"
      ]
     },
     "execution_count": 11,
     "metadata": {},
     "output_type": "execute_result"
    }
   ],
   "source": [
    "twitter_archive_clean.columns"
   ]
  },
  {
   "cell_type": "markdown",
   "id": "555722d5",
   "metadata": {},
   "source": [
    "#### 4.  Convert datatypes\n",
    ">#### Define\n",
    ">- change dtype of `timestamp` from object to datetime format. \n",
    ">- change dtype of `tweet_id` column to object as we are not performing any operations on them.\n",
    "\n",
    ">#### Code"
   ]
  },
  {
   "cell_type": "code",
   "execution_count": 12,
   "id": "49bbe2b6",
   "metadata": {},
   "outputs": [],
   "source": [
    "twitter_archive_clean['timestamp'] = pd.to_datetime(twitter_archive_clean['timestamp'])\n",
    "twitter_archive_clean['tweet_id'] = twitter_archive_clean['tweet_id'].astype(str)\n",
    "\n",
    "image_pred_clean['tweet_id'] = image_pred_clean['tweet_id'].astype(str)"
   ]
  },
  {
   "cell_type": "markdown",
   "id": "b5aacbbf",
   "metadata": {},
   "source": [
    ">#### Test"
   ]
  },
  {
   "cell_type": "code",
   "execution_count": 13,
   "id": "4183a124",
   "metadata": {},
   "outputs": [
    {
     "name": "stdout",
     "output_type": "stream",
     "text": [
      "<class 'pandas.core.frame.DataFrame'>\n",
      "Int64Index: 2097 entries, 0 to 2355\n",
      "Data columns (total 12 columns):\n",
      " #   Column              Non-Null Count  Dtype              \n",
      "---  ------              --------------  -----              \n",
      " 0   tweet_id            2097 non-null   object             \n",
      " 1   timestamp           2097 non-null   datetime64[ns, UTC]\n",
      " 2   source              2097 non-null   object             \n",
      " 3   text                2097 non-null   object             \n",
      " 4   expanded_urls       2094 non-null   object             \n",
      " 5   rating_numerator    2097 non-null   int64              \n",
      " 6   rating_denominator  2097 non-null   int64              \n",
      " 7   name                2097 non-null   object             \n",
      " 8   doggo               2097 non-null   object             \n",
      " 9   floofer             2097 non-null   object             \n",
      " 10  pupper              2097 non-null   object             \n",
      " 11  puppo               2097 non-null   object             \n",
      "dtypes: datetime64[ns, UTC](1), int64(2), object(9)\n",
      "memory usage: 213.0+ KB\n"
     ]
    }
   ],
   "source": [
    "twitter_archive_clean.info()"
   ]
  },
  {
   "cell_type": "markdown",
   "id": "11521f9b",
   "metadata": {},
   "source": [
    "#### 5.  Non-names on `name` column\n",
    ">#### Define\n",
    ">- filter out values that are not dog names ie 'very', 'like', 'his', 'my', 'not', 'this'\n",
    ">- fill with NAN\n",
    "\n",
    ">#### Code"
   ]
  },
  {
   "cell_type": "code",
   "execution_count": 38,
   "id": "2f6d1834",
   "metadata": {
    "scrolled": true
   },
   "outputs": [],
   "source": [
    "names = ['None', 'a', 'an', 'all', 'very', 'like', 'his', 'my', 'not', 'this', 'unacceptable', 'such','getting', 'the',\n",
    "        'just', 'one',  'quite', 'actually', 'mad', 'space', 'infuriating', 'officially', '0','O', 'old', 'life', \n",
    "        'incredibly', 'by']\n",
    "\n",
    "for name in twitter_archive_clean.name.copy():\n",
    "    if name in names:\n",
    "        twitter_archive_clean.name[twitter_archive_clean.name == name] = np.nan"
   ]
  },
  {
   "cell_type": "markdown",
   "id": "44dc4145",
   "metadata": {},
   "source": [
    ">#### Test"
   ]
  },
  {
   "cell_type": "code",
   "execution_count": 15,
   "id": "6711380a",
   "metadata": {},
   "outputs": [
    {
     "data": {
      "text/plain": [
       "Series([], Name: name, dtype: object)"
      ]
     },
     "execution_count": 15,
     "metadata": {},
     "output_type": "execute_result"
    }
   ],
   "source": [
    "twitter_archive_clean[twitter_archive_clean['name'].isin(names)]['name']"
   ]
  },
  {
   "cell_type": "markdown",
   "id": "10ccab97",
   "metadata": {},
   "source": [
    "#### 6.  drop null values in the `expanded_urls` column\n",
    ">#### Define\n",
    ">- filter and drop nan values\n",
    "\n",
    ">#### Code"
   ]
  },
  {
   "cell_type": "code",
   "execution_count": 16,
   "id": "fef65ab1",
   "metadata": {},
   "outputs": [],
   "source": [
    "twitter_archive_clean = twitter_archive_clean[~twitter_archive_clean['expanded_urls'].isna()]"
   ]
  },
  {
   "cell_type": "markdown",
   "id": "b206e639",
   "metadata": {},
   "source": [
    ">#### Test"
   ]
  },
  {
   "cell_type": "code",
   "execution_count": 17,
   "id": "7da0acc7",
   "metadata": {},
   "outputs": [
    {
     "data": {
      "text/plain": [
       "0"
      ]
     },
     "execution_count": 17,
     "metadata": {},
     "output_type": "execute_result"
    }
   ],
   "source": [
    "twitter_archive_clean['expanded_urls'].isna().sum()"
   ]
  },
  {
   "cell_type": "markdown",
   "id": "c1a8cda8",
   "metadata": {},
   "source": [
    "#### 7.  Extract the ratings from `text` column \n",
    ">#### Define\n",
    ">- filter the correct rating for each tweet.\n",
    "\n",
    ">#### Code"
   ]
  },
  {
   "cell_type": "code",
   "execution_count": 18,
   "id": "33186641",
   "metadata": {},
   "outputs": [],
   "source": [
    "rating = twitter_archive_clean.text.str.extractall(r'(\\d+\\.\\d+\\/\\d+)|(\\d+\\/\\d+)').reset_index().drop_duplicates('level_0')\n",
    "\n",
    "rating = rating.melt(value_vars=[0,1],id_vars='level_0', value_name='ratings').dropna().drop('variable', axis=1)\n",
    "\n",
    "twitter_archive_clean = twitter_archive_clean.reset_index()\n",
    "twitter_archive_clean = twitter_archive_clean.merge(rating, left_on='index', right_on='level_0')"
   ]
  },
  {
   "cell_type": "markdown",
   "id": "15789c38",
   "metadata": {},
   "source": [
    ">#### Test"
   ]
  },
  {
   "cell_type": "code",
   "execution_count": 19,
   "id": "f64b29a2",
   "metadata": {},
   "outputs": [
    {
     "data": {
      "text/plain": [
       "12/10       485\n",
       "10/10       434\n",
       "11/10       413\n",
       "13/10       287\n",
       "9/10        152\n",
       "8/10         98\n",
       "7/10         51\n",
       "14/10        38\n",
       "5/10         33\n",
       "6/10         32\n",
       "3/10         19\n",
       "4/10         15\n",
       "2/10          9\n",
       "1/10          4\n",
       "7/11          1\n",
       "44/40         1\n",
       "60/50         1\n",
       "121/110       1\n",
       "11.26/10      1\n",
       "80/80         1\n",
       "144/120       1\n",
       "88/80         1\n",
       "420/10        1\n",
       "45/50         1\n",
       "1776/10       1\n",
       "99/90         1\n",
       "50/50         1\n",
       "4/20          1\n",
       "204/170       1\n",
       "9/11          1\n",
       "165/150       1\n",
       "11.27/10      1\n",
       "9.75/10       1\n",
       "24/7          1\n",
       "84/70         1\n",
       "0/10          1\n",
       "13.5/10       1\n",
       "1/2           1\n",
       "Name: ratings, dtype: int64"
      ]
     },
     "execution_count": 19,
     "metadata": {},
     "output_type": "execute_result"
    }
   ],
   "source": [
    "twitter_archive_clean['ratings'].value_counts()"
   ]
  },
  {
   "cell_type": "markdown",
   "id": "27e4e50d",
   "metadata": {},
   "source": [
    "#### 8.  extract corrcet values for `rating_numerator` \n",
    ">#### Define\n",
    ">- pull the rating_numerator from the correctly extracted rating\n",
    ">- change rating_numerator datatype to float \n",
    "\n",
    ">#### Code"
   ]
  },
  {
   "cell_type": "code",
   "execution_count": 20,
   "id": "3f0502f5",
   "metadata": {},
   "outputs": [],
   "source": [
    "twitter_archive_clean['rating_numerator'] = twitter_archive_clean['ratings'].apply(lambda x: float(x.split(\"/\")[0]))"
   ]
  },
  {
   "cell_type": "markdown",
   "id": "55b528f1",
   "metadata": {},
   "source": [
    ">#### Test"
   ]
  },
  {
   "cell_type": "code",
   "execution_count": 21,
   "id": "0f052fef",
   "metadata": {},
   "outputs": [
    {
     "name": "stdout",
     "output_type": "stream",
     "text": [
      "<class 'pandas.core.frame.DataFrame'>\n",
      "Int64Index: 2094 entries, 0 to 2093\n",
      "Data columns (total 15 columns):\n",
      " #   Column              Non-Null Count  Dtype              \n",
      "---  ------              --------------  -----              \n",
      " 0   index               2094 non-null   int64              \n",
      " 1   tweet_id            2094 non-null   object             \n",
      " 2   timestamp           2094 non-null   datetime64[ns, UTC]\n",
      " 3   source              2094 non-null   object             \n",
      " 4   text                2094 non-null   object             \n",
      " 5   expanded_urls       2094 non-null   object             \n",
      " 6   rating_numerator    2094 non-null   float64            \n",
      " 7   rating_denominator  2094 non-null   int64              \n",
      " 8   name                1390 non-null   object             \n",
      " 9   doggo               2094 non-null   object             \n",
      " 10  floofer             2094 non-null   object             \n",
      " 11  pupper              2094 non-null   object             \n",
      " 12  puppo               2094 non-null   object             \n",
      " 13  level_0             2094 non-null   int64              \n",
      " 14  ratings             2094 non-null   object             \n",
      "dtypes: datetime64[ns, UTC](1), float64(1), int64(3), object(10)\n",
      "memory usage: 261.8+ KB\n"
     ]
    }
   ],
   "source": [
    "twitter_archive_clean.info()"
   ]
  },
  {
   "cell_type": "markdown",
   "id": "01e16fd7",
   "metadata": {},
   "source": [
    "#### 9.  `rating_denominator` datatype isn't int \n",
    ">#### Define\n",
    ">- pull the rating_denominator from the correctly extracted rating\n",
    ">- change rating_denominator datatype to int\n",
    ">- drop 'ratings', 'index', 'level_0' columns\n",
    "\n",
    ">#### Code"
   ]
  },
  {
   "cell_type": "code",
   "execution_count": 22,
   "id": "0f68c6a5",
   "metadata": {},
   "outputs": [],
   "source": [
    "twitter_archive_clean['rating_denominator'] = twitter_archive_clean['ratings'].apply(lambda x: int(x.split(\"/\")[1]))\n",
    "twitter_archive_clean.drop(['ratings', 'index', 'level_0'], axis=1, inplace=True)"
   ]
  },
  {
   "cell_type": "markdown",
   "id": "02077bf4",
   "metadata": {},
   "source": [
    ">#### Test"
   ]
  },
  {
   "cell_type": "code",
   "execution_count": 23,
   "id": "fbaeac40",
   "metadata": {},
   "outputs": [
    {
     "name": "stdout",
     "output_type": "stream",
     "text": [
      "<class 'pandas.core.frame.DataFrame'>\n",
      "Int64Index: 2094 entries, 0 to 2093\n",
      "Data columns (total 12 columns):\n",
      " #   Column              Non-Null Count  Dtype              \n",
      "---  ------              --------------  -----              \n",
      " 0   tweet_id            2094 non-null   object             \n",
      " 1   timestamp           2094 non-null   datetime64[ns, UTC]\n",
      " 2   source              2094 non-null   object             \n",
      " 3   text                2094 non-null   object             \n",
      " 4   expanded_urls       2094 non-null   object             \n",
      " 5   rating_numerator    2094 non-null   float64            \n",
      " 6   rating_denominator  2094 non-null   int64              \n",
      " 7   name                1390 non-null   object             \n",
      " 8   doggo               2094 non-null   object             \n",
      " 9   floofer             2094 non-null   object             \n",
      " 10  pupper              2094 non-null   object             \n",
      " 11  puppo               2094 non-null   object             \n",
      "dtypes: datetime64[ns, UTC](1), float64(1), int64(1), object(9)\n",
      "memory usage: 212.7+ KB\n"
     ]
    }
   ],
   "source": [
    "twitter_archive_clean.info()"
   ]
  },
  {
   "cell_type": "markdown",
   "id": "f28e5719",
   "metadata": {},
   "source": [
    "## Data Tidiness\n",
    "\n",
    "#### 1. Melt the `doggo`, `floofer`, `pupper` and `puppo`  columns as `dog_stages` column. \n",
    "> #### Define\n",
    ">- changes the format of `doggo`, `floofer`, `pupper` and `puppo`  columns from wide to long\n",
    "\n",
    "> #### Code"
   ]
  },
  {
   "cell_type": "code",
   "execution_count": 24,
   "id": "ecfa9b6e",
   "metadata": {},
   "outputs": [],
   "source": [
    "def replace_name(col):\n",
    "    return col.replace('None', '', inplace=True)\n",
    "\n",
    "replace_name(twitter_archive_clean.doggo)\n",
    "replace_name(twitter_archive_clean.floofer)\n",
    "replace_name(twitter_archive_clean.pupper)\n",
    "replace_name(twitter_archive_clean.puppo)\n",
    "\n",
    "twitter_archive_clean['dog_stage'] = twitter_archive_clean.doggo + twitter_archive_clean.floofer\\\n",
    "                                                + twitter_archive_clean.pupper + twitter_archive_clean.puppo"
   ]
  },
  {
   "cell_type": "code",
   "execution_count": 25,
   "id": "e670e1d9",
   "metadata": {},
   "outputs": [],
   "source": [
    "twitter_archive_clean.loc[twitter_archive_clean.dog_stage == 'doggopupper', 'dog_stage'] = 'doggo, pupper'\n",
    "twitter_archive_clean.loc[twitter_archive_clean.dog_stage == 'doggopuppo', 'dog_stage'] = 'doggo, puppo'\n",
    "twitter_archive_clean.loc[twitter_archive_clean.dog_stage == 'doggofloofer', 'dog_stage'] = 'doggo, floofer'\n",
    "\n",
    "twitter_archive_clean.loc[twitter_archive_clean.dog_stage == '', 'dog_stage'] = np.nan\n",
    "\n",
    "twitter_archive_clean.drop(['doggo', 'puppo', 'pupper', 'floofer'], axis=1, inplace=True)"
   ]
  },
  {
   "cell_type": "markdown",
   "id": "cf3677a0",
   "metadata": {},
   "source": [
    "> #### Test"
   ]
  },
  {
   "cell_type": "code",
   "execution_count": 26,
   "id": "44af2d2c",
   "metadata": {
    "scrolled": true
   },
   "outputs": [
    {
     "data": {
      "text/plain": [
       "array([nan, 'doggo', 'puppo', 'pupper', 'floofer', 'doggo, puppo',\n",
       "       'doggo, floofer', 'doggo, pupper'], dtype=object)"
      ]
     },
     "execution_count": 26,
     "metadata": {},
     "output_type": "execute_result"
    }
   ],
   "source": [
    "twitter_archive_clean['dog_stage'].unique()"
   ]
  },
  {
   "cell_type": "code",
   "execution_count": 27,
   "id": "61161968",
   "metadata": {},
   "outputs": [
    {
     "name": "stdout",
     "output_type": "stream",
     "text": [
      "<class 'pandas.core.frame.DataFrame'>\n",
      "Int64Index: 2094 entries, 0 to 2093\n",
      "Data columns (total 9 columns):\n",
      " #   Column              Non-Null Count  Dtype              \n",
      "---  ------              --------------  -----              \n",
      " 0   tweet_id            2094 non-null   object             \n",
      " 1   timestamp           2094 non-null   datetime64[ns, UTC]\n",
      " 2   source              2094 non-null   object             \n",
      " 3   text                2094 non-null   object             \n",
      " 4   expanded_urls       2094 non-null   object             \n",
      " 5   rating_numerator    2094 non-null   float64            \n",
      " 6   rating_denominator  2094 non-null   int64              \n",
      " 7   name                1390 non-null   object             \n",
      " 8   dog_stage           335 non-null    object             \n",
      "dtypes: datetime64[ns, UTC](1), float64(1), int64(1), object(6)\n",
      "memory usage: 163.6+ KB\n"
     ]
    }
   ],
   "source": [
    "twitter_archive_clean.info()"
   ]
  },
  {
   "cell_type": "markdown",
   "id": "4288c1a8",
   "metadata": {},
   "source": [
    "#### 2. merge tables\n",
    "> #### Define\n",
    ">- merge all three tables together.\n",
    ">- drop all duplicated rows.\n",
    "\n",
    ">#### Code"
   ]
  },
  {
   "cell_type": "code",
   "execution_count": 28,
   "id": "35eaecd5",
   "metadata": {
    "scrolled": true
   },
   "outputs": [],
   "source": [
    "twitter_achive_master = twitter_archive_clean.merge(tweet_json_clean, right_on='id_str', left_on=\"tweet_id\")\\\n",
    "                            .merge(image_pred_clean, on=\"tweet_id\", how='left')\n",
    "\n",
    "twitter_achive_master.drop('id_str', axis=1, inplace=True)"
   ]
  },
  {
   "cell_type": "code",
   "execution_count": 29,
   "id": "13cf1ccd",
   "metadata": {},
   "outputs": [
    {
     "name": "stdout",
     "output_type": "stream",
     "text": [
      "<class 'pandas.core.frame.DataFrame'>\n",
      "Int64Index: 2094 entries, 0 to 2093\n",
      "Data columns (total 13 columns):\n",
      " #   Column              Non-Null Count  Dtype              \n",
      "---  ------              --------------  -----              \n",
      " 0   tweet_id            2094 non-null   object             \n",
      " 1   timestamp           2094 non-null   datetime64[ns, UTC]\n",
      " 2   source              2094 non-null   object             \n",
      " 3   text                2094 non-null   object             \n",
      " 4   expanded_urls       2094 non-null   object             \n",
      " 5   rating_numerator    2094 non-null   float64            \n",
      " 6   rating_denominator  2094 non-null   int64              \n",
      " 7   name                1390 non-null   object             \n",
      " 8   dog_stage           335 non-null    object             \n",
      " 9   retweet_count       2094 non-null   int64              \n",
      " 10  favorite_count      2094 non-null   int64              \n",
      " 11  jpg_url             1971 non-null   object             \n",
      " 12  img_num             1971 non-null   float64            \n",
      "dtypes: datetime64[ns, UTC](1), float64(2), int64(3), object(7)\n",
      "memory usage: 229.0+ KB\n"
     ]
    }
   ],
   "source": [
    "twitter_achive_master.info()"
   ]
  },
  {
   "cell_type": "markdown",
   "id": "e3223439",
   "metadata": {},
   "source": [
    "## Storing Data\n",
    "> **save the gathered, assessed and cleaned master datasets to a csv file named twitter_achive_master.csv**"
   ]
  },
  {
   "cell_type": "code",
   "execution_count": 30,
   "id": "a0cae5f6",
   "metadata": {},
   "outputs": [],
   "source": [
    "twitter_achive_master.to_csv('twitter_achive_master.csv', index=False)"
   ]
  },
  {
   "cell_type": "markdown",
   "id": "a510abc0",
   "metadata": {},
   "source": [
    "## Analyzing and Visualizing Data\n",
    "In this section, we analyze and visualize the wrangled data to answer the following questions:\n",
    "_____\n",
    "### Questions:\n",
    ">1. Does the numerator rating influence the favorite and retweet count?\n",
    "\n",
    ">2. What is the correlation between the favorite and retweet count?\n",
    "\n",
    ">3. Does the number of images Does the number of images improve the vote count of tweets on a yearly bases?"
   ]
  },
  {
   "cell_type": "code",
   "execution_count": 31,
   "id": "f0074983",
   "metadata": {},
   "outputs": [
    {
     "name": "stdout",
     "output_type": "stream",
     "text": [
      "<class 'pandas.core.frame.DataFrame'>\n",
      "Int64Index: 2094 entries, 0 to 2093\n",
      "Data columns (total 13 columns):\n",
      " #   Column              Non-Null Count  Dtype              \n",
      "---  ------              --------------  -----              \n",
      " 0   tweet_id            2094 non-null   object             \n",
      " 1   timestamp           2094 non-null   datetime64[ns, UTC]\n",
      " 2   source              2094 non-null   object             \n",
      " 3   text                2094 non-null   object             \n",
      " 4   expanded_urls       2094 non-null   object             \n",
      " 5   rating_numerator    2094 non-null   float64            \n",
      " 6   rating_denominator  2094 non-null   int64              \n",
      " 7   name                1390 non-null   object             \n",
      " 8   dog_stage           335 non-null    object             \n",
      " 9   retweet_count       2094 non-null   int64              \n",
      " 10  favorite_count      2094 non-null   int64              \n",
      " 11  jpg_url             1971 non-null   object             \n",
      " 12  img_num             1971 non-null   float64            \n",
      "dtypes: datetime64[ns, UTC](1), float64(2), int64(3), object(7)\n",
      "memory usage: 229.0+ KB\n"
     ]
    }
   ],
   "source": [
    "twitter_achive_master.info()"
   ]
  },
  {
   "cell_type": "code",
   "execution_count": 32,
   "id": "c9118193",
   "metadata": {},
   "outputs": [
    {
     "data": {
      "text/html": [
       "<div>\n",
       "<style scoped>\n",
       "    .dataframe tbody tr th:only-of-type {\n",
       "        vertical-align: middle;\n",
       "    }\n",
       "\n",
       "    .dataframe tbody tr th {\n",
       "        vertical-align: top;\n",
       "    }\n",
       "\n",
       "    .dataframe thead th {\n",
       "        text-align: right;\n",
       "    }\n",
       "</style>\n",
       "<table border=\"1\" class=\"dataframe\">\n",
       "  <thead>\n",
       "    <tr style=\"text-align: right;\">\n",
       "      <th></th>\n",
       "      <th>rating_numerator</th>\n",
       "      <th>rating_denominator</th>\n",
       "      <th>retweet_count</th>\n",
       "      <th>favorite_count</th>\n",
       "      <th>img_num</th>\n",
       "    </tr>\n",
       "  </thead>\n",
       "  <tbody>\n",
       "    <tr>\n",
       "      <th>count</th>\n",
       "      <td>2094.000000</td>\n",
       "      <td>2094.000000</td>\n",
       "      <td>2094.000000</td>\n",
       "      <td>2094.000000</td>\n",
       "      <td>1971.000000</td>\n",
       "    </tr>\n",
       "    <tr>\n",
       "      <th>mean</th>\n",
       "      <td>12.149847</td>\n",
       "      <td>10.449379</td>\n",
       "      <td>2844.039160</td>\n",
       "      <td>8987.330468</td>\n",
       "      <td>1.201928</td>\n",
       "    </tr>\n",
       "    <tr>\n",
       "      <th>std</th>\n",
       "      <td>40.367823</td>\n",
       "      <td>6.649800</td>\n",
       "      <td>4712.115669</td>\n",
       "      <td>12207.002968</td>\n",
       "      <td>0.559020</td>\n",
       "    </tr>\n",
       "    <tr>\n",
       "      <th>min</th>\n",
       "      <td>0.000000</td>\n",
       "      <td>2.000000</td>\n",
       "      <td>16.000000</td>\n",
       "      <td>81.000000</td>\n",
       "      <td>1.000000</td>\n",
       "    </tr>\n",
       "    <tr>\n",
       "      <th>25%</th>\n",
       "      <td>10.000000</td>\n",
       "      <td>10.000000</td>\n",
       "      <td>644.500000</td>\n",
       "      <td>2045.250000</td>\n",
       "      <td>1.000000</td>\n",
       "    </tr>\n",
       "    <tr>\n",
       "      <th>50%</th>\n",
       "      <td>11.000000</td>\n",
       "      <td>10.000000</td>\n",
       "      <td>1404.000000</td>\n",
       "      <td>4195.500000</td>\n",
       "      <td>1.000000</td>\n",
       "    </tr>\n",
       "    <tr>\n",
       "      <th>75%</th>\n",
       "      <td>12.000000</td>\n",
       "      <td>10.000000</td>\n",
       "      <td>3289.500000</td>\n",
       "      <td>11443.000000</td>\n",
       "      <td>1.000000</td>\n",
       "    </tr>\n",
       "    <tr>\n",
       "      <th>max</th>\n",
       "      <td>1776.000000</td>\n",
       "      <td>170.000000</td>\n",
       "      <td>79515.000000</td>\n",
       "      <td>132810.000000</td>\n",
       "      <td>4.000000</td>\n",
       "    </tr>\n",
       "  </tbody>\n",
       "</table>\n",
       "</div>"
      ],
      "text/plain": [
       "       rating_numerator  rating_denominator  retweet_count  favorite_count  \\\n",
       "count       2094.000000         2094.000000    2094.000000     2094.000000   \n",
       "mean          12.149847           10.449379    2844.039160     8987.330468   \n",
       "std           40.367823            6.649800    4712.115669    12207.002968   \n",
       "min            0.000000            2.000000      16.000000       81.000000   \n",
       "25%           10.000000           10.000000     644.500000     2045.250000   \n",
       "50%           11.000000           10.000000    1404.000000     4195.500000   \n",
       "75%           12.000000           10.000000    3289.500000    11443.000000   \n",
       "max         1776.000000          170.000000   79515.000000   132810.000000   \n",
       "\n",
       "           img_num  \n",
       "count  1971.000000  \n",
       "mean      1.201928  \n",
       "std       0.559020  \n",
       "min       1.000000  \n",
       "25%       1.000000  \n",
       "50%       1.000000  \n",
       "75%       1.000000  \n",
       "max       4.000000  "
      ]
     },
     "execution_count": 32,
     "metadata": {},
     "output_type": "execute_result"
    }
   ],
   "source": [
    "# description of the data\n",
    "twitter_achive_master.describe()"
   ]
  },
  {
   "cell_type": "code",
   "execution_count": 33,
   "id": "88724ba6",
   "metadata": {},
   "outputs": [
    {
     "data": {
      "image/png": "[encoded data removed]",
      "text/plain": [
       "<Figure size 1080x576 with 6 Axes>"
      ]
     },
     "metadata": {
      "needs_background": "light"
     },
     "output_type": "display_data"
    }
   ],
   "source": [
    "# EDA\n",
    "twitter_achive_master.hist(figsize=(15,8))\n",
    "plt.show()"
   ]
  },
  {
   "cell_type": "code",
   "execution_count": 34,
   "id": "5de039c2",
   "metadata": {
    "scrolled": true
   },
   "outputs": [],
   "source": [
    "twitter_achive_master['year'] = twitter_achive_master.timestamp.dt.year"
   ]
  },
  {
   "cell_type": "markdown",
   "id": "26eebd2a",
   "metadata": {},
   "source": [
    "### Question 1: Does the numerator rating influence the favorite and retweet count?"
   ]
  },
  {
   "cell_type": "code",
   "execution_count": 35,
   "id": "220b6f68",
   "metadata": {},
   "outputs": [
    {
     "data": {
      "image/png": "[encoded data removed]",
      "text/plain": [
       "<Figure size 1080x360 with 1 Axes>"
      ]
     },
     "metadata": {
      "needs_background": "light"
     },
     "output_type": "display_data"
    }
   ],
   "source": [
    "twitter_achive_master.groupby('rating_numerator').mean().plot(kind='bar', \n",
    "                                        y=['retweet_count','favorite_count'], \n",
    "                                        fontsize=10, \n",
    "                                        figsize=(15,5),\n",
    "                                        color=['lightgreen', 'green'],\n",
    "                                          )\n",
    "plt.title('Average numerator rating by favorite and retweet count')\n",
    "plt.xlabel('numerator rating')\n",
    "plt.ylabel('average count')\n",
    "plt.show()"
   ]
  },
  {
   "cell_type": "markdown",
   "id": "5a4a7be8",
   "metadata": {},
   "source": [
    ">To demonstates the relationship between the favorite and retweet count on numerator ratings, the graph above showed that the mean rating above 10 have significantly higher favorite and retweet counts."
   ]
  },
  {
   "cell_type": "markdown",
   "id": "029d7480",
   "metadata": {},
   "source": [
    "### Question 2: What is the correlation between the favorite and retweet count?"
   ]
  },
  {
   "cell_type": "code",
   "execution_count": 36,
   "id": "5984a791",
   "metadata": {},
   "outputs": [
    {
     "data": {
      "text/plain": [
       "0.9111930256168023"
      ]
     },
     "execution_count": 36,
     "metadata": {},
     "output_type": "execute_result"
    }
   ],
   "source": [
    "twitter_achive_master.favorite_count.corr(twitter_achive_master.retweet_count)"
   ]
  },
  {
   "cell_type": "markdown",
   "id": "ec3a8023",
   "metadata": {},
   "source": [
    "> Correlation values of 0.91 indicates a strong positive linear relationship between the favorite and retweet counts."
   ]
  },
  {
   "cell_type": "markdown",
   "id": "03bfac35",
   "metadata": {},
   "source": [
    "### Question 3: Does the number of images improve the vote count of tweets on a yearly bases?"
   ]
  },
  {
   "cell_type": "code",
   "execution_count": 37,
   "id": "3e8be676",
   "metadata": {
    "scrolled": false
   },
   "outputs": [
    {
     "data": {
      "image/png": "[encoded data removed]",
      "text/plain": [
       "<Figure size 1080x360 with 1 Axes>"
      ]
     },
     "metadata": {
      "needs_background": "light"
     },
     "output_type": "display_data"
    }
   ],
   "source": [
    "twitter_achive_master.groupby(['img_num', 'year'])[['favorite_count', 'retweet_count']].mean().plot(kind='bar',\n",
    "                                                                                fontsize=10, \n",
    "                                                                                figsize=(15,5))\n",
    "plt.title('Average number of images by favorite and retweet count')\n",
    "plt.xlabel('Number of images uploaded by year')\n",
    "plt.ylabel('average counts')\n",
    "plt.show()"
   ]
  },
  {
   "cell_type": "markdown",
   "id": "47705b40",
   "metadata": {},
   "source": [
    ">The diagram indicates that the number of images does not ultimately lead to better engagement, as posts with 3 images express a decline in favorite and retweet counts."
   ]
  },
  {
   "cell_type": "markdown",
   "id": "0f355ef0",
   "metadata": {},
   "source": [
    "### Conclusions:\n",
    "To sum up everything that has been stated so far, there is a positive correlation of 0.91 between the favorite count and retweet count variables. \n",
    "Mean numerator rating above 10 have significantly higher favorite and retweet counts. However, posts with more images does not necessarily lead to better engagement.\n",
    ">#### Limitations:\n",
    "> Some dogs have multiple stages and if these stages were to be melted, this would result in the dataset being duplicated.\n",
    ">"
   ]
  }
 ],
 "metadata": {
  "kernelspec": {
   "display_name": "Python 3 (ipykernel)",
   "language": "python",
   "name": "python3"
  },
  "language_info": {
   "codemirror_mode": {
    "name": "ipython",
    "version": 3
   },
   "file_extension": ".py",
   "mimetype": "text/x-python",
   "name": "python",
   "nbconvert_exporter": "python",
   "pygments_lexer": "ipython3",
   "version": "3.9.12"
  }
 },
 "nbformat": 4,
 "nbformat_minor": 5
}
